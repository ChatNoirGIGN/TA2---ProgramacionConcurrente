{
  "nbformat": 4,
  "nbformat_minor": 0,
  "metadata": {
    "colab": {
      "name": "TA2.ipynb",
      "provenance": [],
      "authorship_tag": "ABX9TyP8tjaK67dUycoqNl9SVoei",
      "include_colab_link": true
    },
    "kernelspec": {
      "name": "python3",
      "display_name": "Python 3"
    }
  },
  "cells": [
    {
      "cell_type": "markdown",
      "metadata": {
        "id": "view-in-github",
        "colab_type": "text"
      },
      "source": [
        "<a href=\"https://colab.research.google.com/github/ChatNoirGIGN/TA2---ProgramacionConcurrente/blob/main/TA2.ipynb\" target=\"_parent\"><img src=\"https://colab.research.google.com/assets/colab-badge.svg\" alt=\"Open In Colab\"/></a>"
      ]
    },
    {
      "cell_type": "code",
      "metadata": {
        "id": "66y-_LapkwHn",
        "outputId": "3a191289-88ed-4fc7-f2fa-dcdaa04e71e4",
        "colab": {
          "base_uri": "https://localhost:8080/"
        }
      },
      "source": [
        "!apt install golang-go spin 1> /dev/null && go version && spin -V"
      ],
      "execution_count": null,
      "outputs": [
        {
          "output_type": "stream",
          "text": [
            "\n",
            "WARNING: apt does not have a stable CLI interface. Use with caution in scripts.\n",
            "\n",
            "go version go1.10.4 linux/amd64\n",
            "Spin Version 6.4.6 -- 2 December 2016\n"
          ],
          "name": "stdout"
        }
      ]
    },
    {
      "cell_type": "markdown",
      "metadata": {
        "id": "0PTIxREmIpz1"
      },
      "source": [
        "**INICIO:**\n",
        "\n",
        "**Algoritmo utilizado:** Algoritmo matemático que, simulando el comportamiento de las neuronas, tiene la habilidad de aprender. Lo que consigue aprender dicho algoritmo son los pesos (Weights) adecuados para que la salida sea la correcta. Y como al final está decidiendo entre dos valores, podemos decir que el perceptrón está clasificando en dos clases los datos."
      ]
    },
    {
      "cell_type": "markdown",
      "metadata": {
        "id": "P5WzJK_uI_Zx"
      },
      "source": [
        "**IMPLEMENTACIÓN:**"
      ]
    },
    {
      "cell_type": "code",
      "metadata": {
        "id": "CIfck8BfjGUe",
        "outputId": "b5b42ddd-f5a3-479f-eb30-9ae80b9379af",
        "colab": {
          "base_uri": "https://localhost:8080/"
        }
      },
      "source": [
        "%%writefile Perceptron.go\n",
        "\n",
        "#El paquete \"perceptrón\" proporciona la capacidad de crear, entrenar y utilizar un clasificador lineal que toma un número de entradas y devuelve una sola salida.\n",
        "\n",
        "package perceptron\n",
        "\n",
        "import (\n",
        "\t\"fmt\"\n",
        "\t\"math/rand\"\n",
        ")\n",
        "\n",
        "type Perceptron struct {\n",
        "\tWeights   []float64\n",
        "\tThreshold float64\n",
        "}\n",
        "\n",
        "\n",
        "# La función New crea un nuevo Perceptrón con el número especificado de entradas.\n",
        "func New(numInputs int) *Perceptron {\n",
        "\tp := new(Perceptron)\n",
        "\tp.Weights = initializeWeights(numInputs)\n",
        "\tp.Threshold = rand.Float64()\n",
        "\treturn p\n",
        "}\n",
        "\n",
        "func initializeWeights(numInputs int) []float64 {\n",
        "\tw := make([]float64, numInputs)\n",
        "\tfor i := 0; i < numInputs; i++ {\n",
        "\t\tw[i] = rand.Float64()\n",
        "\t}\n",
        "\treturn w\n",
        "}\n",
        "\n",
        "# La función \"actividad\" calcula la actividad en el Perceptrón para una entrada dada. No calcula si el Perceptrón realmente dispara, ver \"Activación\" en su lugar.\n",
        "func (p *Perceptron) Activity(input []int) float64 {\n",
        "\tif len(p.Weights) != len(input) {\n",
        "\t\tpanic(fmt.Sprintf(\"Input length should be %d\", len(p.Weights)))\n",
        "\t}\n",
        "\n",
        "\tvar sum float64\n",
        "\n",
        "\tfor i := 0; i < len(p.Weights); i++ {\n",
        "\t\tsum += p.Weights[i] * float64(input[i])\n",
        "\t}\n",
        "\n",
        "\treturn sum\n",
        "}\n",
        "\n",
        "#La función \"Activates\" comprueba si el Perceptrón se activa para la entrada dada. Devuelve 0 o 1 dependiendo de la entrada y de cómo el Perceptrón. Ha sido entrenado.\n",
        "func (p *Perceptron) Activates(input []int) int {\n",
        "\tif len(p.Weights) != len(input) {\n",
        "\t\tpanic(fmt.Sprintf(\"Input length should be %d\", len(p.Weights)))\n",
        "\t}\n",
        "\n",
        "\tif p.Activity(input) >= p.Threshold {\n",
        "\t\treturn 1\n",
        "\t} else {\n",
        "\t\treturn 0\n",
        "\t}\n",
        "}\n",
        "\n",
        "#La función \"Train\" toma una entrada dada y una salida esperada. Si el Perceptrón no se activa, ajusta el umbral de activación y la entrada pesos. \n",
        "func (p *Perceptron) Train(input []int, expectedOutput int) {\n",
        "\tif len(p.Weights) != len(input) {\n",
        "\t\tpanic(fmt.Sprintf(\"Input length should be %d\", len(p.Weights)))\n",
        "\t}\n",
        "\n",
        "\tcalculatedOutput := p.Activates(input)\n",
        "\n",
        "\tp.Threshold = p.Threshold - (float64(expectedOutput) - float64(calculatedOutput))\n",
        "\n",
        "\tfor i := 0; i < len(p.Weights); i++ {\n",
        "\t\tp.Weights[i] = p.Weights[i] + (float64(expectedOutput)-float64(calculatedOutput))*float64(input[i])\n",
        "\t}\n",
        "}"
      ],
      "execution_count": null,
      "outputs": [
        {
          "output_type": "stream",
          "text": [
            "Overwriting Perceptron.go\n"
          ],
          "name": "stdout"
        }
      ]
    },
    {
      "cell_type": "markdown",
      "metadata": {
        "id": "7lq2Fz5RJFzY"
      },
      "source": [
        "**PRUEBAS:**"
      ]
    },
    {
      "cell_type": "code",
      "metadata": {
        "id": "m5iHpoehjIYM",
        "outputId": "4b0f5510-2498-4121-b289-369abca6c3a5",
        "colab": {
          "base_uri": "https://localhost:8080/"
        }
      },
      "source": [
        "%%writefile Perceptron_Test.go\n",
        "\n",
        "package perceptron_test\n",
        "\n",
        "import (\n",
        "\"github.com/onsi/ginkgo\"\n",
        "\"github.com/onsi/gomega\"\n",
        "\n",
        "\"testing\"\n",
        ")\n",
        "\n",
        "func TestPerceptron(t *testing.T) {\n",
        "\tRegisterFailHandler(Fail)\n",
        "\tRunSpecs(t, \"Perceptron Suite\")\n",
        "}"
      ],
      "execution_count": null,
      "outputs": [
        {
          "output_type": "stream",
          "text": [
            "Overwriting Perceptron_Test.go\n"
          ],
          "name": "stdout"
        }
      ]
    },
    {
      "cell_type": "code",
      "metadata": {
        "id": "ngL1gWGNjJOD",
        "outputId": "0ca9cb19-b0a3-4848-9f66-61eb6d79cefd",
        "colab": {
          "base_uri": "https://localhost:8080/"
        }
      },
      "source": [
        "%%writefile Perceptron_Test_2.go\n",
        "\n",
        "package perceptron_test\n",
        "\n",
        "import (\n",
        "\t\"github.com/onsi/ginkgo\"\n",
        "\t\"github.com/onsi/gomega\"\n",
        "\n",
        "\t\"math/rand\"\n",
        "\n",
        "\t\"github.com/heldtogether/perceptron\"\n",
        ")\n",
        "\n",
        "var _ = Describe(\"Perceptron\", func() {\n",
        "\n",
        "#Sembrar el generador de números aleatorios para que todos los números sean deterministas\n",
        "\tBeforeEach(func() {\n",
        "\t\trand.Seed(1)\n",
        "\t})\n",
        "\n",
        "\tIt(\"generates a set of weights on initialization\", func() {\n",
        "\t\tnumInputs := 2\n",
        "\n",
        "\t\tp := perceptron.New(numInputs)\n",
        "\n",
        "# \"Random\" Weights = [0.6046602879796196 0.9405090880450124]\n",
        "\t\tExpect(p.Weights).Should(HaveLen(numInputs))\n",
        "\t\tExpect(p.Weights).Should(BeEquivalentTo([]float64{0.6046602879796196, 0.9405090880450124}))\n",
        "\t})\n",
        "\n",
        "\tIt(\"generates a random threshold on initialization\", func() {\n",
        "\n",
        "\t\tp := perceptron.New(2)\n",
        "\n",
        "# \"Random\" Threshold = 0.6645600532184904\n",
        "\t\tExpect(p.Threshold).Should(BeNumerically(\"==\", 0.6645600532184904))\n",
        "\t})\n",
        "\n",
        "\tIt(\"can calculate the activity given an input\", func() {\n",
        "\n",
        "\t\tp := perceptron.New(2)\n",
        "\t\ta := p.Activity([]int{1, 0})\n",
        "\n",
        "# Calculated activity = 0.6046602879796196\n",
        "\t\tExpect(a).Should(BeNumerically(\"==\", 0.6046602879796196))\n",
        "\t})\n",
        "\n",
        "\tIt(\"adjusts weights and threshold when wrong\", func() {\n",
        "\n",
        "\t\tp := perceptron.New(2)\n",
        "\t\tp.Train([]int{1, 0}, 1)\n",
        "\n",
        "\t\tExpect(p.Threshold).Should(BeNumerically(\"==\", -0.33543994678150957))\n",
        "\t\tExpect(p.Weights[0]).Should(BeNumerically(\"==\", 1.6046602879796197))\n",
        "\t\tExpect(p.Weights[1]).Should(BeNumerically(\"==\", 0.9405090880450124))\n",
        "\t})\n",
        "\n",
        "\tIt(\"activates when activity is greater than the threshold\", func() {\n",
        "\t\tp := perceptron.New(2)\n",
        "\t\tp.Threshold = 0\n",
        "\n",
        "# Calculated activity = 0.6046602879796196 > 0 so activates\n",
        "\t\tExpect(p.Activates([]int{1, 0})).Should(BeNumerically(\"==\", 1))\n",
        "\t})\n",
        "\n",
        "\tIt(\"doesn't activates when activity is greater than the threshold\", func() {\n",
        "\t\tp := perceptron.New(2)\n",
        "\t\tp.Threshold = 1\n",
        "\n",
        "# Calculated activity = 0.6046602879796196 < 1 so doesn't activate\n",
        "\t\tExpect(p.Activates([]int{1, 0})).Should(BeNumerically(\"==\", 0))\n",
        "\t})\n",
        "\n",
        "})\n"
      ],
      "execution_count": null,
      "outputs": [
        {
          "output_type": "stream",
          "text": [
            "Overwriting Perceptron_Test_2.go\n"
          ],
          "name": "stdout"
        }
      ]
    },
    {
      "cell_type": "code",
      "metadata": {
        "id": "GWykdcBaEIZB",
        "outputId": "61074ba1-4ebd-4c7b-b354-bf5a3a968c57",
        "colab": {
          "base_uri": "https://localhost:8080/"
        }
      },
      "source": [
        "!go run Perceptron_Test.go < input.file"
      ],
      "execution_count": null,
      "outputs": [
        {
          "output_type": "stream",
          "text": [
            "/bin/bash: input.file: No such file or directory\n"
          ],
          "name": "stdout"
        }
      ]
    }
  ]
}